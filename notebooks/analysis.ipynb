{
 "cells": [
  {
   "cell_type": "markdown",
   "metadata": {},
   "source": [
    "# Import Libraries"
   ]
  },
  {
   "cell_type": "code",
   "execution_count": 9,
   "metadata": {},
   "outputs": [],
   "source": [
    "import pandas as pd\n",
    "import numpy as np\n",
    "import sklearn as sk\n",
    "import matplotlib.pyplot as plt\n",
    "import seaborn as sns"
   ]
  },
  {
   "cell_type": "code",
   "execution_count": 2,
   "metadata": {},
   "outputs": [
    {
     "name": "stdout",
     "output_type": "stream",
     "text": [
      "Snowpack Depth (cm): [143.63502971 287.6785766  232.99848545 199.66462105  89.00466011]\n",
      "Snow Density (g/cm^3): [0.17405317 0.31676038 0.44917833 0.39288995 0.42262446]\n",
      "Slope Angle (degrees): [26.54264209 26.17446998 42.65636451 26.238655   26.79874315]\n",
      "Temperature Gradient (°C/m): [ 0.0172703   0.02966814 -0.02495321  0.01248741  0.0071746 ]\n",
      "Snowfall Intensity (cm/h): [5.71995878 8.05432329 7.6016093  1.53899905 1.4924947 ]\n"
     ]
    }
   ],
   "source": [
    "import numpy as np\n",
    "\n",
    "# Set random seed for reproducibility\n",
    "np.random.seed(42)\n",
    "\n",
    "# Generate 1000 data points for each feature\n",
    "snowpack_depth = np.random.uniform(50, 300, 1000)  # Snowpack depth in centimeters (50 cm to 300 cm)\n",
    "snow_density = np.random.uniform(0.1, 0.5, 1000)  # Snow density in grams per cubic centimeter (0.1 g/cm^3 to 0.5 g/cm^3)\n",
    "slope_angle = np.random.uniform(20, 45, 1000)  # Slope angle in degrees (20° to 45°)\n",
    "temp_gradient = np.random.uniform(-0.05, 0.05, 1000)  # Temperature gradient in degrees Celsius per meter (-0.05°C/m to 0.05°C/m)\n",
    "snowfall_intensity = np.random.uniform(0, 10, 1000)  # Snowfall intensity in centimeters per hour (0 cm/h to 10 cm/h)\n",
    "\n",
    "# Display the first few data points for each feature\n",
    "print(\"Snowpack Depth (cm):\", snowpack_depth[:5])\n",
    "print(\"Snow Density (g/cm^3):\", snow_density[:5])\n",
    "print(\"Slope Angle (degrees):\", slope_angle[:5])\n",
    "print(\"Temperature Gradient (°C/m):\", temp_gradient[:5])\n",
    "print(\"Snowfall Intensity (cm/h):\", snowfall_intensity[:5])\n"
   ]
  },
  {
   "cell_type": "code",
   "execution_count": 3,
   "metadata": {},
   "outputs": [
    {
     "data": {
      "text/html": [
       "<div>\n",
       "<style scoped>\n",
       "    .dataframe tbody tr th:only-of-type {\n",
       "        vertical-align: middle;\n",
       "    }\n",
       "\n",
       "    .dataframe tbody tr th {\n",
       "        vertical-align: top;\n",
       "    }\n",
       "\n",
       "    .dataframe thead th {\n",
       "        text-align: right;\n",
       "    }\n",
       "</style>\n",
       "<table border=\"1\" class=\"dataframe\">\n",
       "  <thead>\n",
       "    <tr style=\"text-align: right;\">\n",
       "      <th></th>\n",
       "      <th>SnowPack Depth</th>\n",
       "      <th>Snow Density</th>\n",
       "      <th>Slope Angle</th>\n",
       "      <th>Temperature Gradient</th>\n",
       "      <th>Snowfall Intensity</th>\n",
       "    </tr>\n",
       "  </thead>\n",
       "  <tbody>\n",
       "    <tr>\n",
       "      <th>0</th>\n",
       "      <td>143.635030</td>\n",
       "      <td>0.174053</td>\n",
       "      <td>26.542642</td>\n",
       "      <td>0.017270</td>\n",
       "      <td>5.719959</td>\n",
       "    </tr>\n",
       "    <tr>\n",
       "      <th>1</th>\n",
       "      <td>287.678577</td>\n",
       "      <td>0.316760</td>\n",
       "      <td>26.174470</td>\n",
       "      <td>0.029668</td>\n",
       "      <td>8.054323</td>\n",
       "    </tr>\n",
       "    <tr>\n",
       "      <th>2</th>\n",
       "      <td>232.998485</td>\n",
       "      <td>0.449178</td>\n",
       "      <td>42.656365</td>\n",
       "      <td>-0.024953</td>\n",
       "      <td>7.601609</td>\n",
       "    </tr>\n",
       "    <tr>\n",
       "      <th>3</th>\n",
       "      <td>199.664621</td>\n",
       "      <td>0.392890</td>\n",
       "      <td>26.238655</td>\n",
       "      <td>0.012487</td>\n",
       "      <td>1.538999</td>\n",
       "    </tr>\n",
       "    <tr>\n",
       "      <th>4</th>\n",
       "      <td>89.004660</td>\n",
       "      <td>0.422624</td>\n",
       "      <td>26.798743</td>\n",
       "      <td>0.007175</td>\n",
       "      <td>1.492495</td>\n",
       "    </tr>\n",
       "  </tbody>\n",
       "</table>\n",
       "</div>"
      ],
      "text/plain": [
       "   SnowPack Depth  Snow Density  Slope Angle  Temperature Gradient  \\\n",
       "0      143.635030      0.174053    26.542642              0.017270   \n",
       "1      287.678577      0.316760    26.174470              0.029668   \n",
       "2      232.998485      0.449178    42.656365             -0.024953   \n",
       "3      199.664621      0.392890    26.238655              0.012487   \n",
       "4       89.004660      0.422624    26.798743              0.007175   \n",
       "\n",
       "   Snowfall Intensity  \n",
       "0            5.719959  \n",
       "1            8.054323  \n",
       "2            7.601609  \n",
       "3            1.538999  \n",
       "4            1.492495  "
      ]
     },
     "execution_count": 3,
     "metadata": {},
     "output_type": "execute_result"
    }
   ],
   "source": [
    "df=pd.DataFrame(data={\n",
    "    'SnowPack Depth':snowpack_depth,\n",
    "    'Snow Density':snow_density,\n",
    "    'Slope Angle':slope_angle,\n",
    "    'Temperature Gradient':temp_gradient,\n",
    "    'Snowfall Intensity':snowfall_intensity\n",
    "})\n",
    "df.head()"
   ]
  },
  {
   "cell_type": "code",
   "execution_count": 6,
   "metadata": {},
   "outputs": [
    {
     "data": {
      "text/plain": [
       "<bound method DataFrame.info of      SnowPack Depth  Snow Density  Slope Angle  Temperature Gradient  \\\n",
       "0        143.635030      0.174053    26.542642              0.017270   \n",
       "1        287.678577      0.316760    26.174470              0.029668   \n",
       "2        232.998485      0.449178    42.656365             -0.024953   \n",
       "3        199.664621      0.392890    26.238655              0.012487   \n",
       "4         89.004660      0.422624    26.798743              0.007175   \n",
       "..              ...           ...          ...                   ...   \n",
       "995       72.895518      0.362782    41.632394             -0.005789   \n",
       "996      279.328394      0.482646    23.931830             -0.016560   \n",
       "997       84.204658      0.127583    27.744696             -0.010543   \n",
       "998      287.559338      0.122822    27.251138              0.002994   \n",
       "999      161.501443      0.212875    41.785351             -0.033863   \n",
       "\n",
       "     Snowfall Intensity  \n",
       "0              5.719959  \n",
       "1              8.054323  \n",
       "2              7.601609  \n",
       "3              1.538999  \n",
       "4              1.492495  \n",
       "..                  ...  \n",
       "995            8.973973  \n",
       "996            1.193810  \n",
       "997            3.278428  \n",
       "998            8.157454  \n",
       "999            5.973124  \n",
       "\n",
       "[1000 rows x 5 columns]>"
      ]
     },
     "execution_count": 6,
     "metadata": {},
     "output_type": "execute_result"
    }
   ],
   "source": [
    "df.info"
   ]
  },
  {
   "cell_type": "code",
   "execution_count": 10,
   "metadata": {},
   "outputs": [
    {
     "name": "stderr",
     "output_type": "stream",
     "text": [
      "c:\\Users\\dsai9\\anaconda3\\lib\\site-packages\\seaborn\\_oldcore.py:1498: FutureWarning: is_categorical_dtype is deprecated and will be removed in a future version. Use isinstance(dtype, CategoricalDtype) instead\n",
      "  if pd.api.types.is_categorical_dtype(vector):\n",
      "c:\\Users\\dsai9\\anaconda3\\lib\\site-packages\\seaborn\\_oldcore.py:1119: FutureWarning: use_inf_as_na option is deprecated and will be removed in a future version. Convert inf values to NaN before operating instead.\n",
      "  with pd.option_context('mode.use_inf_as_na', True):\n"
     ]
    },
    {
     "data": {
      "text/plain": [
       "<Axes: ylabel='Count'>"
      ]
     },
     "execution_count": 10,
     "metadata": {},
     "output_type": "execute_result"
    },
    {
     "data": {
      "image/png": "[encoded data removed]",
      "text/plain": [
       "<Figure size 640x480 with 1 Axes>"
      ]
     },
     "metadata": {},
     "output_type": "display_data"
    }
   ],
   "source": [
    "averages=[df.loc[i,:].mean() for i in range(0,1000)]\n",
    "sns.histplot(averages,bins=50,kde=True)"
   ]
  },
  {
   "cell_type": "code",
   "execution_count": 11,
   "metadata": {},
   "outputs": [
    {
     "name": "stderr",
     "output_type": "stream",
     "text": [
      "c:\\Users\\dsai9\\anaconda3\\lib\\site-packages\\seaborn\\_oldcore.py:1498: FutureWarning: is_categorical_dtype is deprecated and will be removed in a future version. Use isinstance(dtype, CategoricalDtype) instead\n",
      "  if pd.api.types.is_categorical_dtype(vector):\n"
     ]
    },
    {
     "data": {
      "text/plain": [
       "<Axes: >"
      ]
     },
     "execution_count": 11,
     "metadata": {},
     "output_type": "execute_result"
    },
    {
     "data": {
      "image/png": "[encoded data removed]",
      "text/plain": [
       "<Figure size 640x480 with 1 Axes>"
      ]
     },
     "metadata": {},
     "output_type": "display_data"
    }
   ],
   "source": [
    "sns.boxplot(x=averages)"
   ]
  },
  {
   "cell_type": "markdown",
   "metadata": {},
   "source": [
    "### Observation\n",
    "- If mean of values is less than 40, then 0-- no avalanche\n",
    "- If mean of values is greater than 40, then 1-- avalanche is imminent\n"
   ]
  },
  {
   "cell_type": "code",
   "execution_count": 22,
   "metadata": {},
   "outputs": [],
   "source": [
    "def encode_averages(x):\n",
    "    if x<40:\n",
    "        return 0\n",
    "    return 1\n",
    "df['Avalanche']=[encode_averages(i) for i in averages ]"
   ]
  },
  {
   "cell_type": "code",
   "execution_count": 23,
   "metadata": {},
   "outputs": [
    {
     "data": {
      "text/html": [
       "<div>\n",
       "<style scoped>\n",
       "    .dataframe tbody tr th:only-of-type {\n",
       "        vertical-align: middle;\n",
       "    }\n",
       "\n",
       "    .dataframe tbody tr th {\n",
       "        vertical-align: top;\n",
       "    }\n",
       "\n",
       "    .dataframe thead th {\n",
       "        text-align: right;\n",
       "    }\n",
       "</style>\n",
       "<table border=\"1\" class=\"dataframe\">\n",
       "  <thead>\n",
       "    <tr style=\"text-align: right;\">\n",
       "      <th></th>\n",
       "      <th>SnowPack Depth</th>\n",
       "      <th>Snow Density</th>\n",
       "      <th>Slope Angle</th>\n",
       "      <th>Temperature Gradient</th>\n",
       "      <th>Snowfall Intensity</th>\n",
       "      <th>Avalanche</th>\n",
       "    </tr>\n",
       "  </thead>\n",
       "  <tbody>\n",
       "    <tr>\n",
       "      <th>0</th>\n",
       "      <td>143.635030</td>\n",
       "      <td>0.174053</td>\n",
       "      <td>26.542642</td>\n",
       "      <td>0.017270</td>\n",
       "      <td>5.719959</td>\n",
       "      <td>0</td>\n",
       "    </tr>\n",
       "    <tr>\n",
       "      <th>1</th>\n",
       "      <td>287.678577</td>\n",
       "      <td>0.316760</td>\n",
       "      <td>26.174470</td>\n",
       "      <td>0.029668</td>\n",
       "      <td>8.054323</td>\n",
       "      <td>1</td>\n",
       "    </tr>\n",
       "    <tr>\n",
       "      <th>2</th>\n",
       "      <td>232.998485</td>\n",
       "      <td>0.449178</td>\n",
       "      <td>42.656365</td>\n",
       "      <td>-0.024953</td>\n",
       "      <td>7.601609</td>\n",
       "      <td>1</td>\n",
       "    </tr>\n",
       "    <tr>\n",
       "      <th>3</th>\n",
       "      <td>199.664621</td>\n",
       "      <td>0.392890</td>\n",
       "      <td>26.238655</td>\n",
       "      <td>0.012487</td>\n",
       "      <td>1.538999</td>\n",
       "      <td>1</td>\n",
       "    </tr>\n",
       "    <tr>\n",
       "      <th>4</th>\n",
       "      <td>89.004660</td>\n",
       "      <td>0.422624</td>\n",
       "      <td>26.798743</td>\n",
       "      <td>0.007175</td>\n",
       "      <td>1.492495</td>\n",
       "      <td>0</td>\n",
       "    </tr>\n",
       "    <tr>\n",
       "      <th>...</th>\n",
       "      <td>...</td>\n",
       "      <td>...</td>\n",
       "      <td>...</td>\n",
       "      <td>...</td>\n",
       "      <td>...</td>\n",
       "      <td>...</td>\n",
       "    </tr>\n",
       "    <tr>\n",
       "      <th>995</th>\n",
       "      <td>72.895518</td>\n",
       "      <td>0.362782</td>\n",
       "      <td>41.632394</td>\n",
       "      <td>-0.005789</td>\n",
       "      <td>8.973973</td>\n",
       "      <td>0</td>\n",
       "    </tr>\n",
       "    <tr>\n",
       "      <th>996</th>\n",
       "      <td>279.328394</td>\n",
       "      <td>0.482646</td>\n",
       "      <td>23.931830</td>\n",
       "      <td>-0.016560</td>\n",
       "      <td>1.193810</td>\n",
       "      <td>1</td>\n",
       "    </tr>\n",
       "    <tr>\n",
       "      <th>997</th>\n",
       "      <td>84.204658</td>\n",
       "      <td>0.127583</td>\n",
       "      <td>27.744696</td>\n",
       "      <td>-0.010543</td>\n",
       "      <td>3.278428</td>\n",
       "      <td>0</td>\n",
       "    </tr>\n",
       "    <tr>\n",
       "      <th>998</th>\n",
       "      <td>287.559338</td>\n",
       "      <td>0.122822</td>\n",
       "      <td>27.251138</td>\n",
       "      <td>0.002994</td>\n",
       "      <td>8.157454</td>\n",
       "      <td>1</td>\n",
       "    </tr>\n",
       "    <tr>\n",
       "      <th>999</th>\n",
       "      <td>161.501443</td>\n",
       "      <td>0.212875</td>\n",
       "      <td>41.785351</td>\n",
       "      <td>-0.033863</td>\n",
       "      <td>5.973124</td>\n",
       "      <td>1</td>\n",
       "    </tr>\n",
       "  </tbody>\n",
       "</table>\n",
       "<p>1000 rows × 6 columns</p>\n",
       "</div>"
      ],
      "text/plain": [
       "     SnowPack Depth  Snow Density  Slope Angle  Temperature Gradient  \\\n",
       "0        143.635030      0.174053    26.542642              0.017270   \n",
       "1        287.678577      0.316760    26.174470              0.029668   \n",
       "2        232.998485      0.449178    42.656365             -0.024953   \n",
       "3        199.664621      0.392890    26.238655              0.012487   \n",
       "4         89.004660      0.422624    26.798743              0.007175   \n",
       "..              ...           ...          ...                   ...   \n",
       "995       72.895518      0.362782    41.632394             -0.005789   \n",
       "996      279.328394      0.482646    23.931830             -0.016560   \n",
       "997       84.204658      0.127583    27.744696             -0.010543   \n",
       "998      287.559338      0.122822    27.251138              0.002994   \n",
       "999      161.501443      0.212875    41.785351             -0.033863   \n",
       "\n",
       "     Snowfall Intensity  Avalanche  \n",
       "0              5.719959          0  \n",
       "1              8.054323          1  \n",
       "2              7.601609          1  \n",
       "3              1.538999          1  \n",
       "4              1.492495          0  \n",
       "..                  ...        ...  \n",
       "995            8.973973          0  \n",
       "996            1.193810          1  \n",
       "997            3.278428          0  \n",
       "998            8.157454          1  \n",
       "999            5.973124          1  \n",
       "\n",
       "[1000 rows x 6 columns]"
      ]
     },
     "execution_count": 23,
     "metadata": {},
     "output_type": "execute_result"
    }
   ],
   "source": [
    "df"
   ]
  },
  {
   "cell_type": "code",
   "execution_count": 24,
   "metadata": {},
   "outputs": [
    {
     "data": {
      "text/plain": [
       "<Axes: >"
      ]
     },
     "execution_count": 24,
     "metadata": {},
     "output_type": "execute_result"
    },
    {
     "data": {
      "image/png": "[encoded data removed]",
      "text/plain": [
       "<Figure size 640x480 with 2 Axes>"
      ]
     },
     "metadata": {},
     "output_type": "display_data"
    }
   ],
   "source": [
    "sns.heatmap(data=df.corr(),center=1)"
   ]
  },
  {
   "cell_type": "code",
   "execution_count": 27,
   "metadata": {},
   "outputs": [],
   "source": [
    "df.to_csv(r'C:\\Users\\dsai9\\Projects\\Avalanche Prediction\\data\\avalanche_prediction.csv')"
   ]
  },
  {
   "cell_type": "markdown",
   "metadata": {},
   "source": [
    "# Model Building"
   ]
  },
  {
   "cell_type": "code",
   "execution_count": null,
   "metadata": {},
   "outputs": [],
   "source": []
  }
 ],
 "metadata": {
  "kernelspec": {
   "display_name": "base",
   "language": "python",
   "name": "python3"
  },
  "language_info": {
   "codemirror_mode": {
    "name": "ipython",
    "version": 3
   },
   "file_extension": ".py",
   "mimetype": "text/x-python",
   "name": "python",
   "nbconvert_exporter": "python",
   "pygments_lexer": "ipython3",
   "version": "3.9.18"
  }
 },
 "nbformat": 4,
 "nbformat_minor": 2
}
